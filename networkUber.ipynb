{
 "cells": [
  {
   "cell_type": "markdown",
   "metadata": {},
   "source": [
    "# Network Analysis | Uber \n",
    "## Ray Johnson"
   ]
  },
  {
   "cell_type": "markdown",
   "metadata": {},
   "source": [
    "My name is Ray Johnson and I am a student finishing my final semester at the Graduate School of Information Science at the University of Illinois in Urbana-Champaign. \n",
    "\n",
    "I end this semester with three courses on Statistical Modeling (with R), an Introduction to Programming with Python, and Network Analysis. In addition, I have had a course in Data Cleaning, Introduction to Databases with MySql, and a Web Design and Accessibility course for Organizations.\n",
    "\n",
    "I've acquired certificates from Lynda.com in Introduction to Programming with JavaScript, and completed three certificates from John Hopkin's Data Science specialization in Data Science.\n",
    "\n",
    "I intend to employ methods I've learned in and out of the university to explore the datasets released to the public with the Freedom of Information Act, in order to see what I can glean from their data. \n"
   ]
  },
  {
   "cell_type": "markdown",
   "metadata": {},
   "source": [
    "## About the Data (Data Sources Listed Below, see 'Data' Under 'Bibliography')"
   ]
  },
  {
   "cell_type": "markdown",
   "metadata": {},
   "source": [
    "Information here is paraphrased in part from source listed in Bibliography as \"Uber Pickups in New York City,\" and specific uber drives with context for purpose of drives are cited from \"My Uber Drives Dataset\" listed below."
   ]
  },
  {
   "cell_type": "markdown",
   "metadata": {},
   "source": [
    "FiveThirtyEight obtained data of 4.5 million Uber pickups in New York City from April to September 2014, then 14.3 additional Uber pickups from January to June 2015. \n",
    "\n",
    "FiveThirtyEight obtained the data from the NYC Taxi and Limousine Commission (TLC) via Freedom of Information Law request on July 20, 2015. \n",
    "\n",
    "- Uber Trip data from 2014 (April-September) separated by month - detailed location info\n",
    "- Uber trip data from 2015 (January-June), less fine-grained location information\n",
    "\n",
    "- Non-Uber For-Hire-Vehicle Trips; while varying by company, the observations might include \"day of trip,\" \"time of trip,\" \"pickup location,\" \"driver's for-hire license number,\" and \"vehicle's for hire license number.\"\n",
    "\n",
    "### Trip Data from 2014, FiveThirtyEight\n",
    "\n",
    "Six files containing raw data of Uber pickups in NYC from April to September 2014, separated by month.\n",
    "\n",
    "Each has the following columns:\n",
    "Date/Time : The date and time of the Uber pickup\n",
    "Lat : The latitude of the Uber pickup\n",
    "Lon : The longitude of the Uber pickup\n",
    "Base : The TLC base company code affiliated with the Uber pickup\n",
    "\n",
    "These files are named:\n",
    "\n",
    "uber-raw-data-apr14.csv\n",
    "uber-raw-data-aug14.csv\n",
    "uber-raw-data-jul14.csv\n",
    "uber-raw-data-jun14.csv\n",
    "uber-raw-data-may14.csv\n",
    "uber-raw-data-sep14.csv\n",
    "Uber trip data from 2015\n",
    "\n",
    "Also included is the file uber-raw-data-janjune-15.csv This file has the following columns:\n",
    "\n",
    "Dispatching_base_num : The TLC base company code of the base that dispatched the Uber\n",
    "Pickup_date : The date and time of the Uber pickup\n",
    "Affiliated_base_num : The TLC base company code affiliated with the Uber pickup\n",
    "locationID : The pickup location ID affiliated with the Uber pickup\n",
    "The Base codes are for the following Uber bases:\n",
    "\n",
    "B02512 : Unter B02598 : Hinter B02617 : Weiter B02682 : Schmecken B02764 : Danach-NY B02765 : Grun B02835 : Dreist B02836 : Drinnen\n",
    "\n",
    "For coarse-grained location information from these pickups, the file taxi-zone-lookup.csv shows the taxi Zone (essentially, neighborhood) and Borough for each locationID.\n",
    "\n",
    "Non-Uber FLV trips\n",
    "\n",
    "The dataset also contains 10 files of raw data on pickups from 10 for-hire vehicle (FHV) companies. The trip information varies by company, but can include day of trip, time of trip, pickup location, driver's for-hire license number, and vehicle's for-hire license number.\n",
    "\n",
    "These files are named:\n",
    "\n",
    "American_B01362.csv\n",
    "Diplo_B01196.csv\n",
    "Highclass_B01717.csv\n",
    "Skyline_B00111.csv\n",
    "Carmel_B00256.csv\n",
    "Federal_02216.csv\n",
    "Lyft_B02510.csv\n",
    "Dial7_B00887.csv\n",
    "Firstclass_B01536.csv\n",
    "Prestige_B01338.csv\n",
    "Aggregate Statistics\n",
    "\n",
    "There is also a file other-FHV-data-jan-aug-2015.csv containing daily pickup data for 329 FHV companies from January 2015 through August 2015.\n",
    "\n",
    "The file Uber-Jan-Feb-FOIL.csv contains aggregated daily Uber trip statistics in January and February 2015.\n",
    "\n",
    "## My Uber Drives (2016) | Dataset of Uber Driver Zeeshan-ul-hassan Usmani\n",
    "### Content\n",
    "Geography: USA, Sri Lanka and Pakistan\n",
    "\n",
    "Time period: January - December 2016\n",
    "\n",
    "Unit of analysis: Drives\n",
    "\n",
    "Total Drives: 1,155\n",
    "\n",
    "Total Miles: 12,204\n",
    "\n",
    "Dataset: The dataset contains Start Date, End Date, Start Location, End Location, Miles Driven and Purpose of drive (Business, Personal, Meals, Errands, Meetings, Customer Support etc.)\n",
    "\n",
    "## Uber_NYC_Enriched, Yannis Pappas \n",
    "### Content\n",
    "https://www.kaggle.com/yannisp/uber-pickups-enriched\n",
    "CSV file of Uber Pickups in NYC from 01/01/15-06/30/15, with weather data from National Centers for Environmental Information, LocationID to Burough mapping by FiveThirtyEight, and NYC public holidays.\n",
    "\n",
    "From YannisPappas' Kaggle Page:\n",
    "- pickup_dt: Time period of the observations.\n",
    "\n",
    "- borough: NYC's borough.\n",
    "\n",
    "- pickups: Number of pickups for the period.\n",
    "\n",
    "- spd: Wind speed in miles/hour.\n",
    "\n",
    "- vsb: Visibility in Miles to nearest tenth.\n",
    "\n",
    "- temp: temperature in Fahrenheit.\n",
    "\n",
    "- dewp: Dew point in Fahrenheit.\n",
    "\n",
    "- slp: Sea level pressure.\n",
    "\n",
    "- pcp01: 1-hour liquid precipitation.\n",
    "\n",
    "- pcp06: 6-hour liquid precipitation.\n",
    "\n",
    "- pcp24: 24-hour liquid precipitation.\n",
    "\n",
    "- sd: Snow depth in inches.\n",
    "\n",
    "- hday: Being a holiday (Y) or not (N)."
   ]
  },
  {
   "cell_type": "markdown",
   "metadata": {},
   "source": [
    "# On the Resources Used:"
   ]
  },
  {
   "cell_type": "markdown",
   "metadata": {},
   "source": [
    "The work listed below is cited according to the standards of the seventh edition of the Modern Language Association. \n",
    "This aspect of workflow benefitted from Zotero; an auto-generated report of listed sources, including abstracts from works consulted, can be found at this web address: http://cpanel.ischool.illinois.edu/~rrjohns2/bibreport.html "
   ]
  },
  {
   "cell_type": "markdown",
   "metadata": {},
   "source": [
    "### Importing Necessary Modules for Processing"
   ]
  },
  {
   "cell_type": "code",
   "execution_count": 1,
   "metadata": {
    "collapsed": false
   },
   "outputs": [],
   "source": [
    "import numpy as np # linear algebra\n",
    "import pandas as pd # data processing, CSV file I/O (e.g. pd.read_csv)\n",
    "import networkx as nx # 'creation, manipulation, and study of structure, dynamics, and functions of complex networks' \n",
    "import matplotlib.pyplot as plt # plotting library/numerical mathematics extensions\n",
    "import seaborn as sns # attractive/informative stat graphics in Python - built on top of matplotlib\n",
    "import datetime\n",
    "from sklearn.cluster import KMeans # K-Means Clustering\n",
    "from sklearn.decomposition import PCA # Principal Component Analysis Module\n",
    "\n",
    "# Input data files are available in the \"../input/\" directory.\n",
    "# For example, running this (by clicking run or pressing Shift+Enter) will list the files in the input directory\n",
    "\n",
    "\n"
   ]
  },
  {
   "cell_type": "markdown",
   "metadata": {},
   "source": [
    "The below inline function allows graphs displayed from matplotlib's library to be displayed inline (on the Jupyter notebook, as opposed to in an outside window). This is a common preference amongst sources (See \"Mastering matplotlib\" first page of Chapter 4: Event Handling and Interactive Plots)."
   ]
  },
  {
   "cell_type": "code",
   "execution_count": 2,
   "metadata": {
    "collapsed": false
   },
   "outputs": [],
   "source": [
    "%matplotlib inline "
   ]
  },
  {
   "cell_type": "code",
   "execution_count": null,
   "metadata": {
    "collapsed": true
   },
   "outputs": [],
   "source": []
  },
  {
   "cell_type": "markdown",
   "metadata": {},
   "source": [
    "Create dataframe for January-February Uber data. Data is stored on an external hard drive. "
   ]
  },
  {
   "cell_type": "code",
   "execution_count": 3,
   "metadata": {
    "collapsed": false
   },
   "outputs": [],
   "source": [
    "dfJanFeb =pd.read_csv(\"D:/networkUber/pickupsNY/Uber-Jan-Feb-FOIL.csv\") # reads and creates df"
   ]
  },
  {
   "cell_type": "code",
   "execution_count": 43,
   "metadata": {
    "collapsed": false
   },
   "outputs": [
    {
     "data": {
      "text/plain": [
       "(354, 4)"
      ]
     },
     "execution_count": 43,
     "metadata": {},
     "output_type": "execute_result"
    }
   ],
   "source": [
    "# print \"shape\" of data frame\n",
    "dfJanFeb.shape"
   ]
  },
  {
   "cell_type": "markdown",
   "metadata": {},
   "source": [
    "There are a total of 354 observations of four columns."
   ]
  },
  {
   "cell_type": "code",
   "execution_count": null,
   "metadata": {
    "collapsed": true
   },
   "outputs": [],
   "source": [
    "# "
   ]
  },
  {
   "cell_type": "markdown",
   "metadata": {},
   "source": [
    "## Linear Regression"
   ]
  },
  {
   "cell_type": "code",
   "execution_count": 54,
   "metadata": {
    "collapsed": false
   },
   "outputs": [
    {
     "data": {
      "text/plain": [
       "<matplotlib.axes._subplots.AxesSubplot at 0x1b5842000f0>"
      ]
     },
     "execution_count": 54,
     "metadata": {},
     "output_type": "execute_result"
    },
    {
     "data": {
      "image/png": "[encoded data removed]",
      "text/plain": [
       "<matplotlib.figure.Figure at 0x1b582e85978>"
      ]
     },
     "metadata": {},
     "output_type": "display_data"
    }
   ],
   "source": [
    "# to test out relationships between variables, I'd like to utilize a scatterplot and check for a linear relationship between active_vehicles and trips\n",
    "dfJanFeb.plot(kind='scatter', x='active_vehicles', y='trips', figsize=(12,12))"
   ]
  },
  {
   "cell_type": "code",
   "execution_count": 42,
   "metadata": {
    "collapsed": false
   },
   "outputs": [
    {
     "name": "stdout",
     "output_type": "stream",
     "text": [
      "8.98104812156 -74.8205203389 0.980492539725 8.79590426331e-251 0.0959617963385\n"
     ]
    }
   ],
   "source": [
    "# We can compute the linear regression line for the relationship using scipy's module linregress\n",
    "from scipy.stats import linregress\n",
    "rv = dfJanFeb.as_matrix(columns=['active_vehicles', 'trips'])\n",
    "a, b, r, p, stderr = linregress(rv)\n",
    "print(a, b, r, p, stderr)\n",
    "\n"
   ]
  },
  {
   "cell_type": "code",
   "execution_count": null,
   "metadata": {
    "collapsed": true
   },
   "outputs": [],
   "source": [
    "dfJanFeb.plot(kind='scatter', x='active_vehicles', 'trips'])"
   ]
  },
  {
   "cell_type": "code",
   "execution_count": 4,
   "metadata": {
    "collapsed": false
   },
   "outputs": [
    {
     "name": "stdout",
     "output_type": "stream",
     "text": [
      "    dispatching_base_number       date  active_vehicles  trips\n",
      "0                    B02512   1/1/2015              190   1132\n",
      "1                    B02765   1/1/2015              225   1765\n",
      "2                    B02764   1/1/2015             3427  29421\n",
      "3                    B02682   1/1/2015              945   7679\n",
      "4                    B02617   1/1/2015             1228   9537\n",
      "5                    B02598   1/1/2015              870   6903\n",
      "6                    B02598   1/2/2015              785   4768\n",
      "7                    B02617   1/2/2015             1137   7065\n",
      "8                    B02512   1/2/2015              175    875\n",
      "9                    B02682   1/2/2015              890   5506\n",
      "10                   B02765   1/2/2015              196   1001\n",
      "11                   B02764   1/2/2015             3147  19974\n",
      "12                   B02765   1/3/2015              201   1526\n",
      "13                   B02617   1/3/2015             1188  10664\n",
      "14                   B02598   1/3/2015              818   7432\n",
      "15                   B02682   1/3/2015              915   8010\n",
      "16                   B02512   1/3/2015              173   1088\n",
      "17                   B02764   1/3/2015             3215  29729\n",
      "18                   B02512   1/4/2015              147    791\n",
      "19                   B02682   1/4/2015              812   5621\n",
      "20                   B02598   1/4/2015              746   5223\n",
      "21                   B02765   1/4/2015              183    993\n",
      "22                   B02617   1/4/2015             1088   7729\n",
      "23                   B02764   1/4/2015             2862  20441\n",
      "24                   B02512   1/5/2015              194    984\n",
      "25                   B02682   1/5/2015              951   6012\n",
      "26                   B02617   1/5/2015             1218   7899\n",
      "27                   B02764   1/5/2015             3387  20926\n",
      "28                   B02598   1/5/2015              907   5798\n",
      "29                   B02765   1/5/2015              227   1133\n",
      "..                      ...        ...              ...    ...\n",
      "324                  B02764  2/24/2015             3965  34686\n",
      "325                  B02512  2/24/2015              247   1869\n",
      "326                  B02598  2/24/2015             1061   9954\n",
      "327                  B02682  2/24/2015             1346  12497\n",
      "328                  B02617  2/24/2015             1456  13719\n",
      "329                  B02765  2/24/2015              698   6390\n",
      "330                  B02512  2/25/2015              246   1647\n",
      "331                  B02598  2/25/2015             1076   9405\n",
      "332                  B02765  2/25/2015              706   6178\n",
      "333                  B02682  2/25/2015             1395  12693\n",
      "334                  B02617  2/25/2015             1473  12811\n",
      "335                  B02764  2/25/2015             3934  31957\n",
      "336                  B02598  2/26/2015             1134  10661\n",
      "337                  B02617  2/26/2015             1539  14461\n",
      "338                  B02682  2/26/2015             1465  13814\n",
      "339                  B02512  2/26/2015              243   1797\n",
      "340                  B02765  2/26/2015              745   6744\n",
      "341                  B02764  2/26/2015             4101  36091\n",
      "342                  B02765  2/27/2015              786   7563\n",
      "343                  B02617  2/27/2015             1551  14677\n",
      "344                  B02598  2/27/2015             1114  10755\n",
      "345                  B02512  2/27/2015              272   2056\n",
      "346                  B02764  2/27/2015             4253  38780\n",
      "347                  B02682  2/27/2015             1510  14975\n",
      "348                  B02598  2/28/2015              994  10319\n",
      "349                  B02764  2/28/2015             3952  39812\n",
      "350                  B02617  2/28/2015             1372  14022\n",
      "351                  B02682  2/28/2015             1386  14472\n",
      "352                  B02512  2/28/2015              230   1803\n",
      "353                  B02765  2/28/2015              747   7753\n",
      "\n",
      "[354 rows x 4 columns]\n"
     ]
    }
   ],
   "source": [
    "print(dfJanFeb)"
   ]
  },
  {
   "cell_type": "code",
   "execution_count": 5,
   "metadata": {
    "collapsed": false
   },
   "outputs": [
    {
     "data": {
      "text/plain": [
       "1/30/2015    6\n",
       "1/7/2015     6\n",
       "1/26/2015    6\n",
       "1/18/2015    6\n",
       "1/22/2015    6\n",
       "2/26/2015    6\n",
       "1/8/2015     6\n",
       "1/13/2015    6\n",
       "2/16/2015    6\n",
       "1/10/2015    6\n",
       "1/25/2015    6\n",
       "2/5/2015     6\n",
       "2/28/2015    6\n",
       "2/15/2015    6\n",
       "2/27/2015    6\n",
       "2/19/2015    6\n",
       "1/28/2015    6\n",
       "1/11/2015    6\n",
       "1/2/2015     6\n",
       "1/15/2015    6\n",
       "2/4/2015     6\n",
       "1/3/2015     6\n",
       "2/23/2015    6\n",
       "1/1/2015     6\n",
       "1/21/2015    6\n",
       "1/5/2015     6\n",
       "1/27/2015    6\n",
       "2/11/2015    6\n",
       "2/22/2015    6\n",
       "1/14/2015    6\n",
       "1/20/2015    6\n",
       "2/1/2015     6\n",
       "2/13/2015    6\n",
       "1/17/2015    6\n",
       "1/31/2015    6\n",
       "2/8/2015     6\n",
       "1/16/2015    6\n",
       "2/18/2015    6\n",
       "2/9/2015     6\n",
       "1/24/2015    6\n",
       "1/19/2015    6\n",
       "2/12/2015    6\n",
       "1/6/2015     6\n",
       "2/14/2015    6\n",
       "1/9/2015     6\n",
       "2/21/2015    6\n",
       "2/10/2015    6\n",
       "2/20/2015    6\n",
       "1/23/2015    6\n",
       "1/29/2015    6\n",
       "2/17/2015    6\n",
       "1/12/2015    6\n",
       "2/25/2015    6\n",
       "2/3/2015     6\n",
       "2/6/2015     6\n",
       "2/7/2015     6\n",
       "1/4/2015     6\n",
       "2/2/2015     6\n",
       "2/24/2015    6\n",
       "Name: date, dtype: int64"
      ]
     },
     "execution_count": 5,
     "metadata": {},
     "output_type": "execute_result"
    }
   ],
   "source": [
    "#count how many instances of each date there is\n",
    "dfJanFeb['date'].value_counts()\n"
   ]
  },
  {
   "cell_type": "markdown",
   "metadata": {},
   "source": [
    "Count how many trips were taken from different base numbers included in data; ignore sorting, because the value is verifiably consistent from each."
   ]
  },
  {
   "cell_type": "code",
   "execution_count": 6,
   "metadata": {
    "collapsed": false
   },
   "outputs": [],
   "source": [
    "#creating date dataframe\n",
    "datedf=dfJanFeb.loc[:,'active_vehicles']\n",
    "\n"
   ]
  },
  {
   "cell_type": "code",
   "execution_count": 7,
   "metadata": {
    "collapsed": false
   },
   "outputs": [
    {
     "data": {
      "text/plain": [
       "462832"
      ]
     },
     "execution_count": 7,
     "metadata": {},
     "output_type": "execute_result"
    }
   ],
   "source": [
    "# Total Active Cars for this time period in NYC\n",
    "dfJanFeb['active_vehicles'].sum()"
   ]
  },
  {
   "cell_type": "code",
   "execution_count": 8,
   "metadata": {
    "collapsed": false
   },
   "outputs": [
    {
     "data": {
      "text/plain": [
       "4395"
      ]
     },
     "execution_count": 8,
     "metadata": {},
     "output_type": "execute_result"
    }
   ],
   "source": [
    "# Max Active Cars for this time period in NYC\n",
    "dfJanFeb['active_vehicles'].max()"
   ]
  },
  {
   "cell_type": "code",
   "execution_count": 9,
   "metadata": {
    "collapsed": false
   },
   "outputs": [
    {
     "data": {
      "text/plain": [
       "112"
      ]
     },
     "execution_count": 9,
     "metadata": {},
     "output_type": "execute_result"
    }
   ],
   "source": [
    "# Mimimum\n",
    "dfJanFeb['active_vehicles'].min()"
   ]
  },
  {
   "cell_type": "code",
   "execution_count": 10,
   "metadata": {
    "collapsed": false
   },
   "outputs": [
    {
     "data": {
      "text/plain": [
       "314"
      ]
     },
     "execution_count": 10,
     "metadata": {},
     "output_type": "execute_result"
    }
   ],
   "source": [
    "# Non-Null Unique Entries - entries where the amount of active vehicles weren't the same as another time\n",
    "dfJanFeb['active_vehicles'].nunique()"
   ]
  },
  {
   "cell_type": "code",
   "execution_count": 11,
   "metadata": {
    "collapsed": false
   },
   "outputs": [
    {
     "data": {
      "text/plain": [
       "354"
      ]
     },
     "execution_count": 11,
     "metadata": {},
     "output_type": "execute_result"
    }
   ],
   "source": [
    "# count number of dates \n",
    "dfJanFeb['date'].count()"
   ]
  },
  {
   "cell_type": "code",
   "execution_count": 12,
   "metadata": {
    "collapsed": false
   },
   "outputs": [
    {
     "data": {
      "text/plain": [
       "date\n",
       "1/1/2015     6885\n",
       "1/10/2015    7346\n",
       "1/11/2015    6571\n",
       "1/12/2015    7364\n",
       "1/13/2015    7559\n",
       "1/14/2015    7849\n",
       "1/15/2015    8080\n",
       "1/16/2015    8273\n",
       "1/17/2015    7527\n",
       "1/18/2015    6863\n",
       "1/19/2015    5945\n",
       "1/2/2015     6330\n",
       "1/20/2015    7592\n",
       "1/21/2015    7948\n",
       "1/22/2015    8267\n",
       "1/23/2015    8490\n",
       "1/24/2015    7643\n",
       "1/25/2015    6787\n",
       "1/26/2015    6533\n",
       "1/27/2015    3496\n",
       "1/28/2015    7815\n",
       "1/29/2015    8376\n",
       "1/3/2015     6510\n",
       "1/30/2015    8693\n",
       "1/31/2015    8223\n",
       "1/4/2015     5838\n",
       "1/5/2015     6884\n",
       "1/6/2015     7216\n",
       "1/7/2015     7444\n",
       "1/8/2015     7999\n",
       "1/9/2015     7989\n",
       "2/1/2015     7752\n",
       "2/10/2015    8029\n",
       "2/11/2015    8515\n",
       "2/12/2015    9123\n",
       "2/13/2015    9604\n",
       "2/14/2015    8973\n",
       "2/15/2015    7939\n",
       "2/16/2015    7551\n",
       "2/17/2015    8403\n",
       "2/18/2015    8442\n",
       "2/19/2015    9030\n",
       "2/2/2015     7080\n",
       "2/20/2015    9649\n",
       "2/21/2015    8765\n",
       "2/22/2015    7620\n",
       "2/23/2015    8197\n",
       "2/24/2015    8773\n",
       "2/25/2015    8830\n",
       "2/26/2015    9227\n",
       "2/27/2015    9486\n",
       "2/28/2015    8681\n",
       "2/3/2015     7840\n",
       "2/4/2015     8185\n",
       "2/5/2015     8833\n",
       "2/6/2015     8937\n",
       "2/7/2015     8119\n",
       "2/8/2015     7226\n",
       "2/9/2015     7688\n",
       "Name: active_vehicles, dtype: int64"
      ]
     },
     "execution_count": 12,
     "metadata": {},
     "output_type": "execute_result"
    }
   ],
   "source": [
    "# using Pandas, we can group by date and sum the active_vehicles for the date listed\n",
    "dfJanFeb.groupby('date')['active_vehicles'].sum()"
   ]
  },
  {
   "cell_type": "markdown",
   "metadata": {},
   "source": [
    "# Pandas has a wide array of Useful Functions for Statistics\n"
   ]
  },
  {
   "cell_type": "code",
   "execution_count": 13,
   "metadata": {
    "collapsed": false
   },
   "outputs": [
    {
     "data": {
      "text/plain": [
       "1307.4350282485875"
      ]
     },
     "execution_count": 13,
     "metadata": {},
     "output_type": "execute_result"
    }
   ],
   "source": [
    "# mean\n",
    "dfJanFeb['active_vehicles'].mean()"
   ]
  },
  {
   "cell_type": "code",
   "execution_count": 14,
   "metadata": {
    "collapsed": false
   },
   "outputs": [
    {
     "data": {
      "text/plain": [
       "0    238\n",
       "dtype: int64"
      ]
     },
     "execution_count": 14,
     "metadata": {},
     "output_type": "execute_result"
    }
   ],
   "source": [
    "# mode\n",
    "dfJanFeb['active_vehicles'].mode()"
   ]
  },
  {
   "cell_type": "code",
   "execution_count": 15,
   "metadata": {
    "collapsed": false
   },
   "outputs": [
    {
     "data": {
      "text/plain": [
       "1162.5106256246545"
      ]
     },
     "execution_count": 15,
     "metadata": {},
     "output_type": "execute_result"
    }
   ],
   "source": [
    "#unbiased standard deviation\n",
    "dfJanFeb['active_vehicles'].std()"
   ]
  },
  {
   "cell_type": "code",
   "execution_count": 24,
   "metadata": {
    "collapsed": false
   },
   "outputs": [],
   "source": [
    "uberApril2014 = pd.read_csv(\"D:/networkUber/pickupsNY/uber-raw-data-apr14.csv\", index_col = False)\n",
    "uberApril2014.columns=['Date', 'Latitude', 'Longitude', 'Base']\n",
    "uberApril2014.drop(['Base'], axis=1, inplace=True)"
   ]
  },
  {
   "cell_type": "code",
   "execution_count": 31,
   "metadata": {
    "collapsed": false
   },
   "outputs": [],
   "source": [
    "uberApril2014[\"Type\"]=\"Uber\"\n",
    "uberApril2014[\"Date\"]=pd.to_datetime(uberApril2014[\"Date\"]).dt.strftime('%Y-%m-%d-%H')"
   ]
  },
  {
   "cell_type": "code",
   "execution_count": null,
   "metadata": {
    "collapsed": true
   },
   "outputs": [],
   "source": [
    "uberJanJune15df = pd.read_csv(\"D:/networkUber/pickupsNY/uber-raw-data-janjune-15.csv\")"
   ]
  },
  {
   "cell_type": "code",
   "execution_count": null,
   "metadata": {
    "collapsed": false
   },
   "outputs": [],
   "source": []
  },
  {
   "cell_type": "markdown",
   "metadata": {},
   "source": [
    "### Matplotlib"
   ]
  },
  {
   "cell_type": "code",
   "execution_count": 20,
   "metadata": {
    "collapsed": false
   },
   "outputs": [],
   "source": [
    "enhancedJanJune15 = pd.read_csv(\"D:/networkUber/uber_nyc_enriched.csv\")"
   ]
  },
  {
   "cell_type": "code",
   "execution_count": null,
   "metadata": {
    "collapsed": true
   },
   "outputs": [],
   "source": []
  },
  {
   "cell_type": "code",
   "execution_count": null,
   "metadata": {
    "collapsed": true
   },
   "outputs": [],
   "source": []
  },
  {
   "cell_type": "code",
   "execution_count": null,
   "metadata": {
    "collapsed": true
   },
   "outputs": [],
   "source": []
  },
  {
   "cell_type": "code",
   "execution_count": null,
   "metadata": {
    "collapsed": true
   },
   "outputs": [],
   "source": []
  },
  {
   "cell_type": "markdown",
   "metadata": {},
   "source": [
    "The following dataset is from one drivers' experience; see \"My Uber Drives\" below. This dataset will be the one where I utilize network analysis."
   ]
  },
  {
   "cell_type": "code",
   "execution_count": 28,
   "metadata": {
    "collapsed": false
   },
   "outputs": [],
   "source": [
    "networkUber16 = pd.read_csv(\"D:/networkUber/myuberdrives2016.csv\")"
   ]
  },
  {
   "cell_type": "code",
   "execution_count": 29,
   "metadata": {
    "collapsed": false
   },
   "outputs": [
    {
     "data": {
      "text/html": [
       "<div>\n",
       "<table border=\"1\" class=\"dataframe\">\n",
       "  <thead>\n",
       "    <tr style=\"text-align: right;\">\n",
       "      <th></th>\n",
       "      <th>START_DATE*</th>\n",
       "      <th>END_DATE*</th>\n",
       "      <th>CATEGORY*</th>\n",
       "      <th>START*</th>\n",
       "      <th>STOP*</th>\n",
       "      <th>MILES*</th>\n",
       "      <th>PURPOSE*</th>\n",
       "    </tr>\n",
       "  </thead>\n",
       "  <tbody>\n",
       "    <tr>\n",
       "      <th>0</th>\n",
       "      <td>1/1/2016 21:11</td>\n",
       "      <td>1/1/2016 21:17</td>\n",
       "      <td>Business</td>\n",
       "      <td>Fort Pierce</td>\n",
       "      <td>Fort Pierce</td>\n",
       "      <td>5.1</td>\n",
       "      <td>Meal/Entertain</td>\n",
       "    </tr>\n",
       "    <tr>\n",
       "      <th>1</th>\n",
       "      <td>1/2/2016 1:25</td>\n",
       "      <td>1/2/2016 1:37</td>\n",
       "      <td>Business</td>\n",
       "      <td>Fort Pierce</td>\n",
       "      <td>Fort Pierce</td>\n",
       "      <td>5.0</td>\n",
       "      <td>NaN</td>\n",
       "    </tr>\n",
       "    <tr>\n",
       "      <th>2</th>\n",
       "      <td>1/2/2016 20:25</td>\n",
       "      <td>1/2/2016 20:38</td>\n",
       "      <td>Business</td>\n",
       "      <td>Fort Pierce</td>\n",
       "      <td>Fort Pierce</td>\n",
       "      <td>4.8</td>\n",
       "      <td>Errand/Supplies</td>\n",
       "    </tr>\n",
       "    <tr>\n",
       "      <th>3</th>\n",
       "      <td>1/5/2016 17:31</td>\n",
       "      <td>1/5/2016 17:45</td>\n",
       "      <td>Business</td>\n",
       "      <td>Fort Pierce</td>\n",
       "      <td>Fort Pierce</td>\n",
       "      <td>4.7</td>\n",
       "      <td>Meeting</td>\n",
       "    </tr>\n",
       "    <tr>\n",
       "      <th>4</th>\n",
       "      <td>1/6/2016 14:42</td>\n",
       "      <td>1/6/2016 15:49</td>\n",
       "      <td>Business</td>\n",
       "      <td>Fort Pierce</td>\n",
       "      <td>West Palm Beach</td>\n",
       "      <td>63.7</td>\n",
       "      <td>Customer Visit</td>\n",
       "    </tr>\n",
       "    <tr>\n",
       "      <th>5</th>\n",
       "      <td>1/6/2016 17:15</td>\n",
       "      <td>1/6/2016 17:19</td>\n",
       "      <td>Business</td>\n",
       "      <td>West Palm Beach</td>\n",
       "      <td>West Palm Beach</td>\n",
       "      <td>4.3</td>\n",
       "      <td>Meal/Entertain</td>\n",
       "    </tr>\n",
       "    <tr>\n",
       "      <th>6</th>\n",
       "      <td>1/6/2016 17:30</td>\n",
       "      <td>1/6/2016 17:35</td>\n",
       "      <td>Business</td>\n",
       "      <td>West Palm Beach</td>\n",
       "      <td>Palm Beach</td>\n",
       "      <td>7.1</td>\n",
       "      <td>Meeting</td>\n",
       "    </tr>\n",
       "    <tr>\n",
       "      <th>7</th>\n",
       "      <td>1/7/2016 13:27</td>\n",
       "      <td>1/7/2016 13:33</td>\n",
       "      <td>Business</td>\n",
       "      <td>Cary</td>\n",
       "      <td>Cary</td>\n",
       "      <td>0.8</td>\n",
       "      <td>Meeting</td>\n",
       "    </tr>\n",
       "    <tr>\n",
       "      <th>8</th>\n",
       "      <td>1/10/2016 8:05</td>\n",
       "      <td>1/10/2016 8:25</td>\n",
       "      <td>Business</td>\n",
       "      <td>Cary</td>\n",
       "      <td>Morrisville</td>\n",
       "      <td>8.3</td>\n",
       "      <td>Meeting</td>\n",
       "    </tr>\n",
       "    <tr>\n",
       "      <th>9</th>\n",
       "      <td>1/10/2016 12:17</td>\n",
       "      <td>1/10/2016 12:44</td>\n",
       "      <td>Business</td>\n",
       "      <td>Jamaica</td>\n",
       "      <td>New York</td>\n",
       "      <td>16.5</td>\n",
       "      <td>Customer Visit</td>\n",
       "    </tr>\n",
       "  </tbody>\n",
       "</table>\n",
       "</div>"
      ],
      "text/plain": [
       "       START_DATE*        END_DATE* CATEGORY*           START*  \\\n",
       "0   1/1/2016 21:11   1/1/2016 21:17  Business      Fort Pierce   \n",
       "1    1/2/2016 1:25    1/2/2016 1:37  Business      Fort Pierce   \n",
       "2   1/2/2016 20:25   1/2/2016 20:38  Business      Fort Pierce   \n",
       "3   1/5/2016 17:31   1/5/2016 17:45  Business      Fort Pierce   \n",
       "4   1/6/2016 14:42   1/6/2016 15:49  Business      Fort Pierce   \n",
       "5   1/6/2016 17:15   1/6/2016 17:19  Business  West Palm Beach   \n",
       "6   1/6/2016 17:30   1/6/2016 17:35  Business  West Palm Beach   \n",
       "7   1/7/2016 13:27   1/7/2016 13:33  Business             Cary   \n",
       "8   1/10/2016 8:05   1/10/2016 8:25  Business             Cary   \n",
       "9  1/10/2016 12:17  1/10/2016 12:44  Business          Jamaica   \n",
       "\n",
       "             STOP*  MILES*         PURPOSE*  \n",
       "0      Fort Pierce     5.1   Meal/Entertain  \n",
       "1      Fort Pierce     5.0              NaN  \n",
       "2      Fort Pierce     4.8  Errand/Supplies  \n",
       "3      Fort Pierce     4.7          Meeting  \n",
       "4  West Palm Beach    63.7   Customer Visit  \n",
       "5  West Palm Beach     4.3   Meal/Entertain  \n",
       "6       Palm Beach     7.1          Meeting  \n",
       "7             Cary     0.8          Meeting  \n",
       "8      Morrisville     8.3          Meeting  \n",
       "9         New York    16.5   Customer Visit  "
      ]
     },
     "execution_count": 29,
     "metadata": {},
     "output_type": "execute_result"
    }
   ],
   "source": [
    "networkUber16.head(10)"
   ]
  },
  {
   "cell_type": "markdown",
   "metadata": {},
   "source": [
    "As you can see above, there are several different observations which are grounded more contextually than in the other datasets. "
   ]
  },
  {
   "cell_type": "code",
   "execution_count": 30,
   "metadata": {
    "collapsed": false
   },
   "outputs": [
    {
     "name": "stdout",
     "output_type": "stream",
     "text": [
      "<class 'pandas.core.frame.DataFrame'>\n",
      "RangeIndex: 1156 entries, 0 to 1155\n",
      "Data columns (total 7 columns):\n",
      "START_DATE*    1156 non-null object\n",
      "END_DATE*      1155 non-null object\n",
      "CATEGORY*      1155 non-null object\n",
      "START*         1155 non-null object\n",
      "STOP*          1155 non-null object\n",
      "MILES*         1156 non-null float64\n",
      "PURPOSE*       653 non-null object\n",
      "dtypes: float64(1), object(6)\n",
      "memory usage: 63.3+ KB\n"
     ]
    }
   ],
   "source": [
    "# let's check to see what the current object is now stored as \n",
    "networkUber16.info()"
   ]
  },
  {
   "cell_type": "markdown",
   "metadata": {},
   "source": [
    "### Data Cleaning"
   ]
  },
  {
   "cell_type": "code",
   "execution_count": null,
   "metadata": {
    "collapsed": true
   },
   "outputs": [],
   "source": [
    "# Missing Values\n"
   ]
  },
  {
   "cell_type": "markdown",
   "metadata": {},
   "source": [
    "# Works Consulted"
   ]
  },
  {
   "cell_type": "markdown",
   "metadata": {},
   "source": [
    "### Books:\n",
    "\n",
    "Downey, Allen B. Think Complexity. N.p. Web. 18 Apr. 2017. 1.2.3.\n",
    "\n",
    "### Book Sections\n",
    "Brownley, Clinton W. “Concatenate Data from Multiple Workbooks.” Working with \n",
    "Excel Files in Python. O’Reilly Media, Inc., 2016. Safari Books Online. Web. 8 May 2017.\n",
    "\n",
    "Diener, Michael. “Python Geospatial Analysis Cookbook.” Python Geospatial \n",
    "Analysis Cookbook. Packt Publishing, 2015. Safari Books Online. Web. 8 May 2017.\n",
    "\n",
    "ericmjl. “Network-Analysis-Made-Simple.” GitHub. N.p., n.d. Web. 21 Apr. 2017.\n",
    "\n",
    "Fandango, Armando. “Statistics and Linear Algebra.” Python Data Analysis - Second Edition. 2nd ed. Packt Publishing, 2017. Safari Books Online. Web. 8 May 2017.\n",
    "\n",
    "Idris, Ivan. “Creating Attractive Data Visualizations.” Python Data Analysis \n",
    "Cookbook. Packt Publishing, 2016. Safari Books Online. Web. 8 May 2017.\n",
    "\n",
    "Lawhead, Joel. “Automating QGIS.” QGIS Python Programming Cookbook - Second Edition. 2nd ed. Packt Publishing, 2017. Safari Books Online. Web. 8 May 2017.\n",
    "\n",
    "Madhavan, Samir. “Uncovering Machine Learning.” Mastering Python for Data Science. Packt Publishing, 2015. Safari Books Online. Web. 8 May 2017.\n",
    "\n",
    "McKinney, Wes. “Data Loading, Storage, and File Formats.” Python for Data Analysis. O’Reilly Media, Inc., 2012. Safari Books Online. Web. 8 May 2017.\n",
    "\n",
    "---. “Data Wrangling: Clean, Transform, Merge, Reshape.” Python for Data Analysis. O’Reilly Media, Inc., 2012. Safari Books Online. Web. 8 May 2017.\n",
    "\n",
    "---. “Plotting and Visualization.” Python for Data Analysis. O’Reilly Media, Inc., 2012. Safari Books Online. Web. 8 May 2017.\n",
    "\n",
    "Mueller, John Paul, and Luca Massaron. “Dealing with Dates in Your Data.” Python for Data Science For Dummies. For Dummies, 2015. Safari Books Online. Web. 8 May 2017.\n",
    "\n",
    "---. “Dealing with Missing Data.” Python for Data Science For Dummies. For Dummies, 2015. Safari Books Online. Web. 8 May 2017.\n",
    "\n",
    "---. “Visualizing the Data.” Python for Data Science For Dummies. For Dummies, 2015. Safari Books Online. Web. 8 May 2017.\n",
    "\n",
    "Nelli, Fabio. “Appendix B: Open Data Sources.” Python Data Analytics: Data Analysis and Science Using Pandas, Matplotlib, and the Python Programming Language. Apress, 2015. Safari Books Online. Web. 8 May 2017.\n",
    "\n",
    "---. “Data Visualization with Matplotlib.” Python Data Analytics: Data Analysis and Science Using Pandas, Matplotlib, and the Python Programming Language. Apress, 2015. Safari Books Online. Web. 8 May 2017.\n",
    "\n",
    "---. “Python and Data Analysis.” Python Data Analytics: Data Analysis and Science Using Pandas, Matplotlib, and the Python Programming Language. Apress, 2015. Safari Books Online. Web. 8 May 2017.\n",
    "\n",
    "Persson, Magnus Vilhelm, and Luiz Felipe Martins. “A. More on Jupyter Notebook and Matplotlib Styles.” Mastering Python Data Analysis. Packt Publishing, 2016. Safari Books Online. Web. 8 May 2017.\n",
    "\n",
    "---. “Learning About Models.” Mastering Python Data Analysis. Packt Publishing, 2016. Safari Books Online. Web. 8 May 2017.\n",
    "\n",
    "Squire, Megan. “Expanding Your Data Mining Toolbox.” Mastering Data Mining with Python – Find Patterns Hidden in Your Data. Packt Publishing, 2016. Safari Books Online. Web. 8 May 2017.\n",
    "\n",
    "Subramanian, Gopi. “Data Analysis – Explore and Wrangle.” Python Data Science Cookbook. Packt Publishing, 2015. Safari Books Online. Web. 8 May 2017.\n",
    "Vo.T.H, Phuong et al. “Advanced Uses of Pandas for Data Analysis.” Python: Data Analytics and Visualization. Packt Publishing, 2017. Safari Books Online. Web. 8 May 2017.\n",
    "\n",
    "\n",
    "### DataCamp Course:\n",
    "\n",
    "Ma, Eric. “Introduction to Networks | Python.” Web. 21 Apr. 2017.\n",
    "\n",
    "### GitHub Repository Walk-Throughs:\n",
    "\n",
    "ericmjl. “Network-Analysis-Made-Simple.” GitHub. Web. 18 Apr. 2017. https://github.com/ericmjl/Network-Analysis-Made-Simple.\n",
    "\n",
    "briatte. \"Awesome Network Analysis.\" GitHub. 14 Apr. 2017\n",
    "https://github.com/briatte/awesome-network-analysis.\n",
    "\n",
    "\"Network Analysis Made Simple.\" GitHub. 14 Apr. 2017.\n",
    "https://github.com/ericmjl/Network-Analysis-Made-Simple\n",
    "\n",
    "## Data Resources\n",
    "\n",
    "### Uber Data - Over 4.5 Million Uber pick ups in New York City Explored\n",
    "\n",
    "andrewflowers. “Fivethirtyeight/Uber-Tlc-Foil-Response.” GitHub. Web. 16 Apr. 2017.\n",
    "https://github.com/toddwschneider/nyc-taxi-data.\n",
    "\n",
    "\"Social Network Analysis with Python,\" a talk given by Maksim Tsvetovat and Alex Kouznetsov at PyCon 2012.\n",
    "https://github.com/maksim2042/PyCon2012\n",
    "\n",
    "### \"My Uber Drives\" Data\n",
    "Zeeshan-ul-hassan Usmani, My Uber Drives Dataset, Kaggle Dataset Repository, March 23, 2017.”\n",
    "\n",
    "### \"Uber Pickups in New York City\" Data\n",
    "“Uber Pickups in New York City.” N.p., n.d. Web. 8 May 2017. https://www.kaggle.com/fivethirtyeight/uber-pickups-in-new-york-city\n",
    "\n",
    "### Freedom of Information Act - FOIL Datasets, Uber\n",
    "\n",
    "https://github.com/fivethirtyeight/uber-tlc-foil-response/tree/master/uber-trip-data\n",
    "\n",
    "https://archive.org/details/nycTaxiTripData2013"
   ]
  },
  {
   "cell_type": "code",
   "execution_count": null,
   "metadata": {
    "collapsed": true
   },
   "outputs": [],
   "source": []
  }
 ],
 "metadata": {
  "kernelspec": {
   "display_name": "Python 3",
   "language": "python",
   "name": "python3"
  },
  "language_info": {
   "codemirror_mode": {
    "name": "ipython",
    "version": 3
   },
   "file_extension": ".py",
   "mimetype": "text/x-python",
   "name": "python",
   "nbconvert_exporter": "python",
   "pygments_lexer": "ipython3",
   "version": "3.6.0"
  }
 },
 "nbformat": 4,
 "nbformat_minor": 2
}
