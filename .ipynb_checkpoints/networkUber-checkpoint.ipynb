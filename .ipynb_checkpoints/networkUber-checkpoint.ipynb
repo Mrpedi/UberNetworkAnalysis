{
 "cells": [
  {
   "cell_type": "markdown",
   "metadata": {},
   "source": [
    "# Network Analysis | Uber "
   ]
  },
  {
   "cell_type": "markdown",
   "metadata": {},
   "source": [
    "My name is Ray Johnson and I am a student finishing my final semester at the Graduate School of Information Science at the University of Illinois in Urbana-Champaign. \n",
    "\n",
    "I end this semester with three courses on Statistical Modeling (with R), an Introduction to Programming with Python, and Network Analysis. In addition, I have had a course in Data Cleaning, Introduction to Databases with MySql, and a Web Design and Accessibility course for Organizations.\n",
    "\n",
    "I've acquired certificates from Lynda.com in Introduction to Programming with JavaScript, and completed three certificates from John Hopkin's Data Science specialization in Data Science.\n",
    "\n",
    "I intend to employ methods I've learned in and out of the university to explore the datasets released to the public with the Freedom of Information Act, in order to see what I can glean from their data. \n"
   ]
  },
  {
   "cell_type": "markdown",
   "metadata": {},
   "source": [
    "## Bibliography"
   ]
  },
  {
   "cell_type": "markdown",
   "metadata": {},
   "source": [
    "The work listed below is cited according to the standards of the seventh edition of the Modern Language Association. \n",
    "This aspect of workflow benefitted from Zotero; an auto-generated report of listed sources, including abstracts from works consulted, can be found at this web address: cpanel.ischool.illinois.edu/~rrjohns2/bibreport.html. "
   ]
  },
  {
   "cell_type": "markdown",
   "metadata": {},
   "source": [
    "## Works Consulted"
   ]
  },
  {
   "cell_type": "markdown",
   "metadata": {},
   "source": [
    "### Books:\n",
    "\n",
    "Downey, Allen B. Think Complexity. N.p. Web. 18 Apr. 2017. 1.2.3.\n",
    "\n",
    "### Book Sections\n",
    "Brownley, Clinton W. “Concatenate Data from Multiple Workbooks.” Working with \n",
    "Excel Files in Python. O’Reilly Media, Inc., 2016. Safari Books Online. Web. 8 May 2017.\n",
    "\n",
    "Diener, Michael. “Python Geospatial Analysis Cookbook.” Python Geospatial \n",
    "Analysis Cookbook. Packt Publishing, 2015. Safari Books Online. Web. 8 May 2017.\n",
    "\n",
    "ericmjl. “Network-Analysis-Made-Simple.” GitHub. N.p., n.d. Web. 21 Apr. 2017.\n",
    "\n",
    "Fandango, Armando. “Statistics and Linear Algebra.” Python Data Analysis - Second Edition. 2nd ed. Packt Publishing, 2017. Safari Books Online. Web. 8 May 2017.\n",
    "\n",
    "Idris, Ivan. “Creating Attractive Data Visualizations.” Python Data Analysis \n",
    "Cookbook. Packt Publishing, 2016. Safari Books Online. Web. 8 May 2017.\n",
    "\n",
    "Lawhead, Joel. “Automating QGIS.” QGIS Python Programming Cookbook - Second Edition. 2nd ed. Packt Publishing, 2017. Safari Books Online. Web. 8 May 2017.\n",
    "\n",
    "Madhavan, Samir. “Uncovering Machine Learning.” Mastering Python for Data Science. Packt Publishing, 2015. Safari Books Online. Web. 8 May 2017.\n",
    "\n",
    "McKinney, Wes. “Data Loading, Storage, and File Formats.” Python for Data Analysis. O’Reilly Media, Inc., 2012. Safari Books Online. Web. 8 May 2017.\n",
    "\n",
    "---. “Data Wrangling: Clean, Transform, Merge, Reshape.” Python for Data Analysis. O’Reilly Media, Inc., 2012. Safari Books Online. Web. 8 May 2017.\n",
    "\n",
    "---. “Plotting and Visualization.” Python for Data Analysis. O’Reilly Media, Inc., 2012. Safari Books Online. Web. 8 May 2017.\n",
    "\n",
    "Mueller, John Paul, and Luca Massaron. “Dealing with Dates in Your Data.” Python for Data Science For Dummies. For Dummies, 2015. Safari Books Online. Web. 8 May 2017.\n",
    "\n",
    "---. “Dealing with Missing Data.” Python for Data Science For Dummies. For Dummies, 2015. Safari Books Online. Web. 8 May 2017.\n",
    "\n",
    "---. “Visualizing the Data.” Python for Data Science For Dummies. For Dummies, 2015. Safari Books Online. Web. 8 May 2017.\n",
    "\n",
    "Nelli, Fabio. “Appendix B: Open Data Sources.” Python Data Analytics: Data Analysis and Science Using Pandas, Matplotlib, and the Python Programming Language. Apress, 2015. Safari Books Online. Web. 8 May 2017.\n",
    "\n",
    "---. “Data Visualization with Matplotlib.” Python Data Analytics: Data Analysis and Science Using Pandas, Matplotlib, and the Python Programming Language. Apress, 2015. Safari Books Online. Web. 8 May 2017.\n",
    "\n",
    "---. “Python and Data Analysis.” Python Data Analytics: Data Analysis and Science Using Pandas, Matplotlib, and the Python Programming Language. Apress, 2015. Safari Books Online. Web. 8 May 2017.\n",
    "\n",
    "Persson, Magnus Vilhelm, and Luiz Felipe Martins. “A. More on Jupyter Notebook and Matplotlib Styles.” Mastering Python Data Analysis. Packt Publishing, 2016. Safari Books Online. Web. 8 May 2017.\n",
    "\n",
    "---. “Learning About Models.” Mastering Python Data Analysis. Packt Publishing, 2016. Safari Books Online. Web. 8 May 2017.\n",
    "\n",
    "Squire, Megan. “Expanding Your Data Mining Toolbox.” Mastering Data Mining with Python – Find Patterns Hidden in Your Data. Packt Publishing, 2016. Safari Books Online. Web. 8 May 2017.\n",
    "\n",
    "Subramanian, Gopi. “Data Analysis – Explore and Wrangle.” Python Data Science Cookbook. Packt Publishing, 2015. Safari Books Online. Web. 8 May 2017.\n",
    "Vo.T.H, Phuong et al. “Advanced Uses of Pandas for Data Analysis.” Python: Data Analytics and Visualization. Packt Publishing, 2017. Safari Books Online. Web. 8 May 2017.\n",
    "\n",
    "\n",
    "### DataCamp Course:\n",
    "\n",
    "Ma, Eric. “Introduction to Networks | Python.” Web. 21 Apr. 2017.\n",
    "\n",
    "### GitHub Repository Walk-Throughs:\n",
    "\n",
    "ericmjl. “Network-Analysis-Made-Simple.” GitHub. Web. 18 Apr. 2017. https://github.com/ericmjl/Network-Analysis-Made-Simple.\n",
    "\n",
    "briatte. \"Awesome Network Analysis.\" GitHub. 14 Apr. 2017\n",
    "https://github.com/briatte/awesome-network-analysis.\n",
    "\n",
    "\"Network Analysis Made Simple.\" GitHub. 14 Apr. 2017.\n",
    "https://github.com/ericmjl/Network-Analysis-Made-Simple\n",
    "\n",
    "### Uber Data - Over 4.5 Million Uber pick ups in New York City Explored\n",
    "\n",
    "andrewflowers. “Fivethirtyeight/Uber-Tlc-Foil-Response.” GitHub. Web. 16 Apr. 2017.\n",
    "https://github.com/toddwschneider/nyc-taxi-data.\n",
    "\n",
    "\"Social Network Analysis with Python,\" a talk given by Maksim Tsvetovat and Alex Kouznetsov at PyCon 2012.\n",
    "https://github.com/maksim2042/PyCon2012\n",
    "\n",
    "### Freedom of Information Act - FOIL Datasets, Uber\n",
    "\n",
    "https://github.com/fivethirtyeight/uber-tlc-foil-response/tree/master/uber-trip-data\n",
    "\n",
    "https://archive.org/details/nycTaxiTripData2013\n",
    "\n"
   ]
  },
  {
   "cell_type": "markdown",
   "metadata": {},
   "source": [
    "### Import Necessary Modules for Processing"
   ]
  },
  {
   "cell_type": "code",
   "execution_count": 2,
   "metadata": {
    "collapsed": false
   },
   "outputs": [],
   "source": [
    "import numpy as np # linear algebra functionality\n",
    "import pandas as pd # data processing, CSV files I/O added functionality\n",
    "import matplotlib.pyplot as plt\n",
    "\n",
    "# I've uploaded a folder \"data\" which contains data from one month to test"
   ]
  },
  {
   "cell_type": "code",
   "execution_count": 3,
   "metadata": {
    "collapsed": false
   },
   "outputs": [],
   "source": [
    "df=pd.read_csv(\"../finalProject/data/Uber-Jan-Feb-FOIL.csv\")"
   ]
  },
  {
   "cell_type": "code",
   "execution_count": 4,
   "metadata": {
    "collapsed": false
   },
   "outputs": [
    {
     "name": "stdout",
     "output_type": "stream",
     "text": [
      "    dispatching_base_number       date  active_vehicles  trips\n",
      "0                    B02512   1/1/2015              190   1132\n",
      "1                    B02765   1/1/2015              225   1765\n",
      "2                    B02764   1/1/2015             3427  29421\n",
      "3                    B02682   1/1/2015              945   7679\n",
      "4                    B02617   1/1/2015             1228   9537\n",
      "5                    B02598   1/1/2015              870   6903\n",
      "6                    B02598   1/2/2015              785   4768\n",
      "7                    B02617   1/2/2015             1137   7065\n",
      "8                    B02512   1/2/2015              175    875\n",
      "9                    B02682   1/2/2015              890   5506\n",
      "10                   B02765   1/2/2015              196   1001\n",
      "11                   B02764   1/2/2015             3147  19974\n",
      "12                   B02765   1/3/2015              201   1526\n",
      "13                   B02617   1/3/2015             1188  10664\n",
      "14                   B02598   1/3/2015              818   7432\n",
      "15                   B02682   1/3/2015              915   8010\n",
      "16                   B02512   1/3/2015              173   1088\n",
      "17                   B02764   1/3/2015             3215  29729\n",
      "18                   B02512   1/4/2015              147    791\n",
      "19                   B02682   1/4/2015              812   5621\n",
      "20                   B02598   1/4/2015              746   5223\n",
      "21                   B02765   1/4/2015              183    993\n",
      "22                   B02617   1/4/2015             1088   7729\n",
      "23                   B02764   1/4/2015             2862  20441\n",
      "24                   B02512   1/5/2015              194    984\n",
      "25                   B02682   1/5/2015              951   6012\n",
      "26                   B02617   1/5/2015             1218   7899\n",
      "27                   B02764   1/5/2015             3387  20926\n",
      "28                   B02598   1/5/2015              907   5798\n",
      "29                   B02765   1/5/2015              227   1133\n",
      "..                      ...        ...              ...    ...\n",
      "324                  B02764  2/24/2015             3965  34686\n",
      "325                  B02512  2/24/2015              247   1869\n",
      "326                  B02598  2/24/2015             1061   9954\n",
      "327                  B02682  2/24/2015             1346  12497\n",
      "328                  B02617  2/24/2015             1456  13719\n",
      "329                  B02765  2/24/2015              698   6390\n",
      "330                  B02512  2/25/2015              246   1647\n",
      "331                  B02598  2/25/2015             1076   9405\n",
      "332                  B02765  2/25/2015              706   6178\n",
      "333                  B02682  2/25/2015             1395  12693\n",
      "334                  B02617  2/25/2015             1473  12811\n",
      "335                  B02764  2/25/2015             3934  31957\n",
      "336                  B02598  2/26/2015             1134  10661\n",
      "337                  B02617  2/26/2015             1539  14461\n",
      "338                  B02682  2/26/2015             1465  13814\n",
      "339                  B02512  2/26/2015              243   1797\n",
      "340                  B02765  2/26/2015              745   6744\n",
      "341                  B02764  2/26/2015             4101  36091\n",
      "342                  B02765  2/27/2015              786   7563\n",
      "343                  B02617  2/27/2015             1551  14677\n",
      "344                  B02598  2/27/2015             1114  10755\n",
      "345                  B02512  2/27/2015              272   2056\n",
      "346                  B02764  2/27/2015             4253  38780\n",
      "347                  B02682  2/27/2015             1510  14975\n",
      "348                  B02598  2/28/2015              994  10319\n",
      "349                  B02764  2/28/2015             3952  39812\n",
      "350                  B02617  2/28/2015             1372  14022\n",
      "351                  B02682  2/28/2015             1386  14472\n",
      "352                  B02512  2/28/2015              230   1803\n",
      "353                  B02765  2/28/2015              747   7753\n",
      "\n",
      "[354 rows x 4 columns]\n"
     ]
    }
   ],
   "source": [
    "print(df)"
   ]
  },
  {
   "cell_type": "code",
   "execution_count": 8,
   "metadata": {
    "collapsed": false
   },
   "outputs": [
    {
     "name": "stdout",
     "output_type": "stream",
     "text": [
      "0       1/1/2015\n",
      "1       1/1/2015\n",
      "2       1/1/2015\n",
      "3       1/1/2015\n",
      "4       1/1/2015\n",
      "5       1/1/2015\n",
      "6       1/2/2015\n",
      "7       1/2/2015\n",
      "8       1/2/2015\n",
      "9       1/2/2015\n",
      "10      1/2/2015\n",
      "11      1/2/2015\n",
      "12      1/3/2015\n",
      "13      1/3/2015\n",
      "14      1/3/2015\n",
      "15      1/3/2015\n",
      "16      1/3/2015\n",
      "17      1/3/2015\n",
      "18      1/4/2015\n",
      "19      1/4/2015\n",
      "20      1/4/2015\n",
      "21      1/4/2015\n",
      "22      1/4/2015\n",
      "23      1/4/2015\n",
      "24      1/5/2015\n",
      "25      1/5/2015\n",
      "26      1/5/2015\n",
      "27      1/5/2015\n",
      "28      1/5/2015\n",
      "29      1/5/2015\n",
      "         ...    \n",
      "324    2/24/2015\n",
      "325    2/24/2015\n",
      "326    2/24/2015\n",
      "327    2/24/2015\n",
      "328    2/24/2015\n",
      "329    2/24/2015\n",
      "330    2/25/2015\n",
      "331    2/25/2015\n",
      "332    2/25/2015\n",
      "333    2/25/2015\n",
      "334    2/25/2015\n",
      "335    2/25/2015\n",
      "336    2/26/2015\n",
      "337    2/26/2015\n",
      "338    2/26/2015\n",
      "339    2/26/2015\n",
      "340    2/26/2015\n",
      "341    2/26/2015\n",
      "342    2/27/2015\n",
      "343    2/27/2015\n",
      "344    2/27/2015\n",
      "345    2/27/2015\n",
      "346    2/27/2015\n",
      "347    2/27/2015\n",
      "348    2/28/2015\n",
      "349    2/28/2015\n",
      "350    2/28/2015\n",
      "351    2/28/2015\n",
      "352    2/28/2015\n",
      "353    2/28/2015\n",
      "Name: date, dtype: object\n"
     ]
    }
   ],
   "source": [
    "#creating date dataframe\n",
    "datedf=df.loc[:,'date']\n",
    "print(datedf)"
   ]
  },
  {
   "cell_type": "markdown",
   "metadata": {},
   "source": [
    "### Data Cleaning with Python"
   ]
  },
  {
   "cell_type": "markdown",
   "metadata": {},
   "source": [
    "### Data Modelling Uber Data with Python"
   ]
  },
  {
   "cell_type": "code",
   "execution_count": null,
   "metadata": {
    "collapsed": true
   },
   "outputs": [],
   "source": []
  }
 ],
 "metadata": {
  "kernelspec": {
   "display_name": "Python 3",
   "language": "python",
   "name": "python3"
  },
  "language_info": {
   "codemirror_mode": {
    "name": "ipython",
    "version": 3
   },
   "file_extension": ".py",
   "mimetype": "text/x-python",
   "name": "python",
   "nbconvert_exporter": "python",
   "pygments_lexer": "ipython3",
   "version": "3.6.0"
  }
 },
 "nbformat": 4,
 "nbformat_minor": 2
}
